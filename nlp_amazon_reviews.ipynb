{
 "cells": [
  {
   "cell_type": "code",
   "execution_count": 1,
   "metadata": {},
   "outputs": [],
   "source": [
    "import pandas as pd\n",
    "import gzip\n",
    "import json\n",
    "import nlp_lib as nl\n",
    "from sklearn.feature_extraction.text import CountVectorizer"
   ]
  },
  {
   "cell_type": "markdown",
   "metadata": {},
   "source": [
    "## Data Loading and Cleaning"
   ]
  },
  {
   "cell_type": "code",
   "execution_count": 2,
   "metadata": {},
   "outputs": [],
   "source": [
    "# Create generator function from raw data file to be later loaded into a data frame\n",
    "def parse(path):\n",
    "  g = gzip.open(path, 'rb')\n",
    "  for l in g:\n",
    "    yield json.loads(l)"
   ]
  },
  {
   "cell_type": "code",
   "execution_count": 3,
   "metadata": {},
   "outputs": [],
   "source": [
    "# Iterate through generator and load data, line by line, into new dictionary\n",
    "def get_reviews(path):\n",
    "  reviews = []\n",
    "  for d in parse(path):\n",
    "    reviews.append(nl.Reviews(d['reviewText'], d['overall']))\n",
    "  return reviews"
   ]
  },
  {
   "cell_type": "code",
   "execution_count": 4,
   "metadata": {},
   "outputs": [],
   "source": [
    "# Create new dictionary with all the data\n",
    "reviews = get_reviews(\"data/Appliances_5.json.gz\")"
   ]
  },
  {
   "cell_type": "markdown",
   "metadata": {},
   "source": [
    "## Create \"Bag of Words\" Feature Matrix for Training/Test Data"
   ]
  },
  {
   "cell_type": "code",
   "execution_count": 6,
   "metadata": {},
   "outputs": [],
   "source": [
    "from sklearn.model_selection import train_test_split\n",
    "from sklearn.feature_extraction.text import CountVectorizer"
   ]
  },
  {
   "cell_type": "code",
   "execution_count": 8,
   "metadata": {},
   "outputs": [],
   "source": [
    "# Use sklearn to split up data into training and test splits, with a seed value to recreate from this state\n",
    "review_train_set, review_test_set = train_test_split(reviews, train_size=0.6, random_state=9)"
   ]
  },
  {
   "cell_type": "code",
   "execution_count": 9,
   "metadata": {},
   "outputs": [],
   "source": [
    "# split the features based on X and y (input data and class) for both the training and test sets\n",
    "review_train_feat_x = [x.review_text for x in review_train_set]\n",
    "review_train_feat_y = [y.sentiment for y in review_train_set]\n",
    "\n",
    "review_test_feat_x = [x.review_text for x in review_test_set]\n",
    "review_test_feat_y = [y.sentiment for y in review_test_set]"
   ]
  },
  {
   "cell_type": "code",
   "execution_count": 10,
   "metadata": {},
   "outputs": [],
   "source": [
    "# Create new Count Vectorizer object and \"fit\" the vectorizer vocabulary to the training data.\n",
    "# Constructs the feature columns (words in all training examples)\n",
    "review_vectorizer = CountVectorizer()\n",
    "review_vectorizer.fit(review_train_feat_x)\n",
    "\n",
    "# Now that the vocabulary is known, transform training/test feature lists into BoW matrices\n",
    "# row dim = # of training examples; col dim = size of vocabulary (unique word per column)\n",
    "review_train_mat_x = review_vectorizer.transform(review_train_feat_x)\n",
    "review_test_mat_x = review_vectorizer.transform(review_test_feat_x)"
   ]
  },
  {
   "cell_type": "markdown",
   "metadata": {},
   "source": [
    "## Train model(s)"
   ]
  },
  {
   "cell_type": "markdown",
   "metadata": {},
   "source": [
    "### Logistic Regression"
   ]
  },
  {
   "cell_type": "code",
   "execution_count": 11,
   "metadata": {},
   "outputs": [],
   "source": [
    "from sklearn.linear_model import LogisticRegression\n",
    "from sklearn.metrics import f1_score\n",
    "\n",
    "# Create the logistic regression class object and fit it to the training data\n",
    "log_reg = LogisticRegression(random_state=9)\n",
    "log_reg_model = log_reg.fit(review_train_mat_x, review_train_feat_y)"
   ]
  },
  {
   "cell_type": "code",
   "execution_count": 12,
   "metadata": {},
   "outputs": [
    {
     "name": "stdout",
     "output_type": "stream",
     "text": [
      "train = 0.9970717423133236\n",
      "test = 0.9901207464324918\n"
     ]
    }
   ],
   "source": [
    "# Show the accuracy of the trained model on training and test data\n",
    "print('train = {}'.format(log_reg_model.score(review_train_mat_x, review_train_feat_y)))\n",
    "print('test = {}'.format(log_reg_model.score(review_test_mat_x, review_test_feat_y)))"
   ]
  },
  {
   "cell_type": "code",
   "execution_count": 13,
   "metadata": {},
   "outputs": [],
   "source": [
    "# Show the F1 score for each classifier in the model (not good for negative, not enough examples)\n",
    "log_f1 = f1_score(review_test_feat_y, log_reg_model.predict(review_test_mat_x), average=None, labels=['POSITIVE', 'NEGATIVE', 'NEUTRAL'])"
   ]
  },
  {
   "cell_type": "code",
   "execution_count": 14,
   "metadata": {},
   "outputs": [
    {
     "data": {
      "text/plain": [
       "array([0.99392302, 0.54545455, 0.98787879])"
      ]
     },
     "execution_count": 14,
     "metadata": {},
     "output_type": "execute_result"
    }
   ],
   "source": [
    "log_f1"
   ]
  },
  {
   "cell_type": "code",
   "execution_count": 16,
   "metadata": {},
   "outputs": [
    {
     "data": {
      "text/plain": [
       "254"
      ]
     },
     "execution_count": 16,
     "metadata": {},
     "output_type": "execute_result"
    }
   ],
   "source": [
    "review_train_feat_y.count('NEUTRAL')"
   ]
  },
  {
   "cell_type": "code",
   "execution_count": null,
   "metadata": {},
   "outputs": [],
   "source": []
  }
 ],
 "metadata": {
  "kernelspec": {
   "display_name": "Python 3",
   "language": "python",
   "name": "python3"
  },
  "language_info": {
   "codemirror_mode": {
    "name": "ipython",
    "version": 3
   },
   "file_extension": ".py",
   "mimetype": "text/x-python",
   "name": "python",
   "nbconvert_exporter": "python",
   "pygments_lexer": "ipython3",
   "version": "3.6.9"
  }
 },
 "nbformat": 4,
 "nbformat_minor": 4
}
