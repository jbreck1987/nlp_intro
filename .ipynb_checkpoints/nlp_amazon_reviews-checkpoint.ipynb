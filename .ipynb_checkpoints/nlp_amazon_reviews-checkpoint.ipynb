{
 "cells": [
  {
   "cell_type": "code",
   "execution_count": 1,
   "metadata": {},
   "outputs": [],
   "source": [
    "import pandas as pd\n",
    "import gzip\n",
    "import json\n",
    "import nlp_lib as nl\n",
    "from sklearn.feature_extraction.text import CountVectorizer\n",
    "from sklean.model_selection"
   ]
  },
  {
   "cell_type": "markdown",
   "metadata": {},
   "source": [
    "## Data Loading and Cleaning"
   ]
  },
  {
   "cell_type": "code",
   "execution_count": 2,
   "metadata": {},
   "outputs": [],
   "source": [
    "# Create generator function from raw data file to be later loaded into a data frame\n",
    "def parse(path):\n",
    "  g = gzip.open(path, 'rb')\n",
    "  for l in g:\n",
    "    yield json.loads(l)"
   ]
  },
  {
   "cell_type": "code",
   "execution_count": 3,
   "metadata": {},
   "outputs": [],
   "source": [
    "# Iterate through generator and load data, line by line, into new dictionary\n",
    "def get_reviews(path):\n",
    "  reviews = []\n",
    "  for d in parse(path):\n",
    "    reviews.append(nl.Reviews(d['reviewText'], d['overall']))\n",
    "  return reviews"
   ]
  },
  {
   "cell_type": "code",
   "execution_count": 4,
   "metadata": {},
   "outputs": [],
   "source": [
    "# Create new dictionary with all the data\n",
    "reviews = get_reviews(\"data/Appliances_5.json.gz\")"
   ]
  },
  {
   "cell_type": "markdown",
   "metadata": {},
   "source": [
    "## Create \"Bag of Words\" Feature Matrix for Training/Test Data"
   ]
  },
  {
   "cell_type": "code",
   "execution_count": 17,
   "metadata": {},
   "outputs": [],
   "source": [
    "from sklearn.model_selection import train_test_split\n",
    "from sklearn.feature_extraction.text import CountVectorizer"
   ]
  },
  {
   "cell_type": "code",
   "execution_count": 9,
   "metadata": {},
   "outputs": [],
   "source": [
    "# Use sklearn to split up data into training and test splits, with a seed value to recreate from this state\n",
    "review_train_set, review_test_set = train_test_split(reviews, train_size=0.6, random_state=9)"
   ]
  },
  {
   "cell_type": "code",
   "execution_count": 16,
   "metadata": {},
   "outputs": [],
   "source": [
    "# split the features based on X and y (input data and class) for both the training and test sets\n",
    "review_train_feat_x = [x.review_text for x in review_train_set]\n",
    "review_train_feat_y = [y.sentiment for y in review_train_set]\n",
    "\n",
    "review_test_feat_x = [x.review_text for x in review_test_set]\n",
    "review_test_feat_y = [y.sentiment for y in review_test_set]"
   ]
  },
  {
   "cell_type": "code",
   "execution_count": 27,
   "metadata": {},
   "outputs": [],
   "source": [
    "# Create new Count Vectorizer object and \"fit\" the vectorizer vocabulary to the training data\n",
    "review_vectorizer = CountVectorizer()\n",
    "review_vectorizer.fit(review_train_feat_x)\n",
    "\n",
    "# Now that the vocabulary is known, transform training/test feature lists into BoW matrices\n",
    "# row dim = # of training examples; col dim = size of vocabulary (unique word per column)\n",
    "review_train_mat_x = review_vectorizer.transform(review_train_feat_x)\n",
    "review_test_mat_x = review_vectorizer.transform(review_test_feat_x)"
   ]
  }
 ],
 "metadata": {
  "kernelspec": {
   "display_name": "Python 3",
   "language": "python",
   "name": "python3"
  },
  "language_info": {
   "codemirror_mode": {
    "name": "ipython",
    "version": 3
   },
   "file_extension": ".py",
   "mimetype": "text/x-python",
   "name": "python",
   "nbconvert_exporter": "python",
   "pygments_lexer": "ipython3",
   "version": "3.6.9"
  }
 },
 "nbformat": 4,
 "nbformat_minor": 4
}
